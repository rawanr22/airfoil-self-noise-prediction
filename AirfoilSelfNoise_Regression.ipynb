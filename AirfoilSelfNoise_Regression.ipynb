{
 "cells": [
  {
   "cell_type": "markdown",
   "metadata": {
    "id": "e3GTzKOZmHI3"
   },
   "source": [
    "# AirfoilSelfNoise Dataset\n",
    "\n",
    "**This data was provided by NASA for predicitng the sound pressure level of Airfoil blade sections.**\n",
    "\n",
    "**The features of the dataset are:** <br>\n",
    "\n",
    "1. Frequency, in Hertzs.\n",
    "2. Angle of attack, in degrees.\n",
    "3. Chord length, in meters.\n",
    "4. Free-stream velocity, in meters per second.\n",
    "5. Suction side displacement thickness, in meters.\n",
    "\n",
    "The target is:\n",
    "6. Scaled sound pressure level, in decibels."
   ]
  },
  {
   "cell_type": "code",
   "execution_count": 85,
   "metadata": {
    "id": "foqvkmUWkhey"
   },
   "outputs": [],
   "source": [
    "import pandas as pd\n",
    "import numpy as np\n",
    "import seaborn as sns\n",
    "\n",
    "from sklearn.model_selection import train_test_split\n",
    "import matplotlib.pyplot as plt\n",
    "from sklearn.linear_model import LinearRegression\n",
    "from sklearn.tree import DecisionTreeRegressor\n",
    "from sklearn.neighbors import KNeighborsRegressor\n",
    "from sklearn.preprocessing import StandardScaler\n",
    "from sklearn.model_selection import learning_curve\n",
    "from sklearn.feature_selection import SequentialFeatureSelector\n",
    "from sklearn.metrics import mean_squared_error, mean_absolute_error, median_absolute_error, r2_score \n",
    "from sklearn import metrics\n",
    "from sklearn.model_selection import learning_curve\n",
    "from sklearn.linear_model import LogisticRegression\n",
    "\n",
    "\n",
    "import warnings\n",
    "warnings.filterwarnings(\"ignore\")"
   ]
  },
  {
   "cell_type": "code",
   "execution_count": 86,
   "metadata": {
    "colab": {
     "base_uri": "https://localhost:8080/"
    },
    "id": "PhaFXOA3le6b",
    "outputId": "89dcaaa2-fda6-43b8-94c2-b4def512280f"
   },
   "outputs": [
    {
     "data": {
      "text/plain": [
       "(1503, 6)"
      ]
     },
     "execution_count": 86,
     "metadata": {},
     "output_type": "execute_result"
    }
   ],
   "source": [
    "df = pd.read_csv('AirfoilSelfNoise.csv')\n",
    "df.shape"
   ]
  },
  {
   "cell_type": "markdown",
   "metadata": {
    "id": "9lxvDGLdoEe6"
   },
   "source": [
    "# Data Exploration and Cleaning"
   ]
  },
  {
   "cell_type": "code",
   "execution_count": 87,
   "metadata": {
    "colab": {
     "base_uri": "https://localhost:8080/",
     "height": 195
    },
    "id": "6gOitzKFlt-u",
    "outputId": "dd7a2cb0-ab80-40ed-eee8-5785d7eb78b5"
   },
   "outputs": [
    {
     "data": {
      "text/html": [
       "\n",
       "  <div id=\"df-852515a7-bafa-4a0d-94d0-7daa25db34ec\">\n",
       "    <div class=\"colab-df-container\">\n",
       "      <div>\n",
       "<style scoped>\n",
       "    .dataframe tbody tr th:only-of-type {\n",
       "        vertical-align: middle;\n",
       "    }\n",
       "\n",
       "    .dataframe tbody tr th {\n",
       "        vertical-align: top;\n",
       "    }\n",
       "\n",
       "    .dataframe thead th {\n",
       "        text-align: right;\n",
       "    }\n",
       "</style>\n",
       "<table border=\"1\" class=\"dataframe\">\n",
       "  <thead>\n",
       "    <tr style=\"text-align: right;\">\n",
       "      <th></th>\n",
       "      <th>f</th>\n",
       "      <th>alpha</th>\n",
       "      <th>c</th>\n",
       "      <th>U_infinity</th>\n",
       "      <th>delta</th>\n",
       "      <th>SSPL</th>\n",
       "    </tr>\n",
       "  </thead>\n",
       "  <tbody>\n",
       "    <tr>\n",
       "      <th>0</th>\n",
       "      <td>800</td>\n",
       "      <td>0.0</td>\n",
       "      <td>0.3048</td>\n",
       "      <td>71.3</td>\n",
       "      <td>0.002663</td>\n",
       "      <td>126.201</td>\n",
       "    </tr>\n",
       "    <tr>\n",
       "      <th>1</th>\n",
       "      <td>1000</td>\n",
       "      <td>0.0</td>\n",
       "      <td>0.3048</td>\n",
       "      <td>71.3</td>\n",
       "      <td>0.002663</td>\n",
       "      <td>125.201</td>\n",
       "    </tr>\n",
       "    <tr>\n",
       "      <th>2</th>\n",
       "      <td>1250</td>\n",
       "      <td>0.0</td>\n",
       "      <td>0.3048</td>\n",
       "      <td>71.3</td>\n",
       "      <td>0.002663</td>\n",
       "      <td>125.951</td>\n",
       "    </tr>\n",
       "    <tr>\n",
       "      <th>3</th>\n",
       "      <td>1600</td>\n",
       "      <td>0.0</td>\n",
       "      <td>0.3048</td>\n",
       "      <td>71.3</td>\n",
       "      <td>0.002663</td>\n",
       "      <td>127.591</td>\n",
       "    </tr>\n",
       "    <tr>\n",
       "      <th>4</th>\n",
       "      <td>2000</td>\n",
       "      <td>0.0</td>\n",
       "      <td>0.3048</td>\n",
       "      <td>71.3</td>\n",
       "      <td>0.002663</td>\n",
       "      <td>127.461</td>\n",
       "    </tr>\n",
       "  </tbody>\n",
       "</table>\n",
       "</div>\n",
       "      <button class=\"colab-df-convert\" onclick=\"convertToInteractive('df-852515a7-bafa-4a0d-94d0-7daa25db34ec')\"\n",
       "              title=\"Convert this dataframe to an interactive table.\"\n",
       "              style=\"display:none;\">\n",
       "        \n",
       "  <svg xmlns=\"http://www.w3.org/2000/svg\" height=\"24px\"viewBox=\"0 0 24 24\"\n",
       "       width=\"24px\">\n",
       "    <path d=\"M0 0h24v24H0V0z\" fill=\"none\"/>\n",
       "    <path d=\"M18.56 5.44l.94 2.06.94-2.06 2.06-.94-2.06-.94-.94-2.06-.94 2.06-2.06.94zm-11 1L8.5 8.5l.94-2.06 2.06-.94-2.06-.94L8.5 2.5l-.94 2.06-2.06.94zm10 10l.94 2.06.94-2.06 2.06-.94-2.06-.94-.94-2.06-.94 2.06-2.06.94z\"/><path d=\"M17.41 7.96l-1.37-1.37c-.4-.4-.92-.59-1.43-.59-.52 0-1.04.2-1.43.59L10.3 9.45l-7.72 7.72c-.78.78-.78 2.05 0 2.83L4 21.41c.39.39.9.59 1.41.59.51 0 1.02-.2 1.41-.59l7.78-7.78 2.81-2.81c.8-.78.8-2.07 0-2.86zM5.41 20L4 18.59l7.72-7.72 1.47 1.35L5.41 20z\"/>\n",
       "  </svg>\n",
       "      </button>\n",
       "      \n",
       "  <style>\n",
       "    .colab-df-container {\n",
       "      display:flex;\n",
       "      flex-wrap:wrap;\n",
       "      gap: 12px;\n",
       "    }\n",
       "\n",
       "    .colab-df-convert {\n",
       "      background-color: #E8F0FE;\n",
       "      border: none;\n",
       "      border-radius: 50%;\n",
       "      cursor: pointer;\n",
       "      display: none;\n",
       "      fill: #1967D2;\n",
       "      height: 32px;\n",
       "      padding: 0 0 0 0;\n",
       "      width: 32px;\n",
       "    }\n",
       "\n",
       "    .colab-df-convert:hover {\n",
       "      background-color: #E2EBFA;\n",
       "      box-shadow: 0px 1px 2px rgba(60, 64, 67, 0.3), 0px 1px 3px 1px rgba(60, 64, 67, 0.15);\n",
       "      fill: #174EA6;\n",
       "    }\n",
       "\n",
       "    [theme=dark] .colab-df-convert {\n",
       "      background-color: #3B4455;\n",
       "      fill: #D2E3FC;\n",
       "    }\n",
       "\n",
       "    [theme=dark] .colab-df-convert:hover {\n",
       "      background-color: #434B5C;\n",
       "      box-shadow: 0px 1px 3px 1px rgba(0, 0, 0, 0.15);\n",
       "      filter: drop-shadow(0px 1px 2px rgba(0, 0, 0, 0.3));\n",
       "      fill: #FFFFFF;\n",
       "    }\n",
       "  </style>\n",
       "\n",
       "      <script>\n",
       "        const buttonEl =\n",
       "          document.querySelector('#df-852515a7-bafa-4a0d-94d0-7daa25db34ec button.colab-df-convert');\n",
       "        buttonEl.style.display =\n",
       "          google.colab.kernel.accessAllowed ? 'block' : 'none';\n",
       "\n",
       "        async function convertToInteractive(key) {\n",
       "          const element = document.querySelector('#df-852515a7-bafa-4a0d-94d0-7daa25db34ec');\n",
       "          const dataTable =\n",
       "            await google.colab.kernel.invokeFunction('convertToInteractive',\n",
       "                                                     [key], {});\n",
       "          if (!dataTable) return;\n",
       "\n",
       "          const docLinkHtml = 'Like what you see? Visit the ' +\n",
       "            '<a target=\"_blank\" href=https://colab.research.google.com/notebooks/data_table.ipynb>data table notebook</a>'\n",
       "            + ' to learn more about interactive tables.';\n",
       "          element.innerHTML = '';\n",
       "          dataTable['output_type'] = 'display_data';\n",
       "          await google.colab.output.renderOutput(dataTable, element);\n",
       "          const docLink = document.createElement('div');\n",
       "          docLink.innerHTML = docLinkHtml;\n",
       "          element.appendChild(docLink);\n",
       "        }\n",
       "      </script>\n",
       "    </div>\n",
       "  </div>\n",
       "  "
      ],
      "text/plain": [
       "      f  alpha       c  U_infinity     delta     SSPL\n",
       "0   800    0.0  0.3048        71.3  0.002663  126.201\n",
       "1  1000    0.0  0.3048        71.3  0.002663  125.201\n",
       "2  1250    0.0  0.3048        71.3  0.002663  125.951\n",
       "3  1600    0.0  0.3048        71.3  0.002663  127.591\n",
       "4  2000    0.0  0.3048        71.3  0.002663  127.461"
      ]
     },
     "execution_count": 87,
     "metadata": {},
     "output_type": "execute_result"
    }
   ],
   "source": [
    "df.head(5)"
   ]
  },
  {
   "cell_type": "code",
   "execution_count": 88,
   "metadata": {
    "colab": {
     "base_uri": "https://localhost:8080/"
    },
    "id": "zssrFohtnbrp",
    "outputId": "d4fdd9bc-1f34-4088-a434-e5e8e79316af"
   },
   "outputs": [
    {
     "data": {
      "text/plain": [
       "f               int64\n",
       "alpha         float64\n",
       "c             float64\n",
       "U_infinity    float64\n",
       "delta         float64\n",
       "SSPL          float64\n",
       "dtype: object"
      ]
     },
     "execution_count": 88,
     "metadata": {},
     "output_type": "execute_result"
    }
   ],
   "source": [
    "df.dtypes"
   ]
  },
  {
   "cell_type": "code",
   "execution_count": 89,
   "metadata": {
    "colab": {
     "base_uri": "https://localhost:8080/",
     "height": 284
    },
    "id": "kkZ5dONIoCFu",
    "outputId": "e1b4ae74-2a46-4a05-d06e-1ac495328d6c"
   },
   "outputs": [
    {
     "data": {
      "text/html": [
       "\n",
       "  <div id=\"df-35ecb1a8-2bf3-495f-a4e1-563b84258ea1\">\n",
       "    <div class=\"colab-df-container\">\n",
       "      <div>\n",
       "<style scoped>\n",
       "    .dataframe tbody tr th:only-of-type {\n",
       "        vertical-align: middle;\n",
       "    }\n",
       "\n",
       "    .dataframe tbody tr th {\n",
       "        vertical-align: top;\n",
       "    }\n",
       "\n",
       "    .dataframe thead th {\n",
       "        text-align: right;\n",
       "    }\n",
       "</style>\n",
       "<table border=\"1\" class=\"dataframe\">\n",
       "  <thead>\n",
       "    <tr style=\"text-align: right;\">\n",
       "      <th></th>\n",
       "      <th>f</th>\n",
       "      <th>alpha</th>\n",
       "      <th>c</th>\n",
       "      <th>U_infinity</th>\n",
       "      <th>delta</th>\n",
       "      <th>SSPL</th>\n",
       "    </tr>\n",
       "  </thead>\n",
       "  <tbody>\n",
       "    <tr>\n",
       "      <th>count</th>\n",
       "      <td>1503.000000</td>\n",
       "      <td>1503.000000</td>\n",
       "      <td>1503.000000</td>\n",
       "      <td>1503.000000</td>\n",
       "      <td>1503.000000</td>\n",
       "      <td>1503.000000</td>\n",
       "    </tr>\n",
       "    <tr>\n",
       "      <th>mean</th>\n",
       "      <td>2886.380572</td>\n",
       "      <td>6.782302</td>\n",
       "      <td>0.136548</td>\n",
       "      <td>50.860745</td>\n",
       "      <td>0.011140</td>\n",
       "      <td>124.835943</td>\n",
       "    </tr>\n",
       "    <tr>\n",
       "      <th>std</th>\n",
       "      <td>3152.573137</td>\n",
       "      <td>5.918128</td>\n",
       "      <td>0.093541</td>\n",
       "      <td>15.572784</td>\n",
       "      <td>0.013150</td>\n",
       "      <td>6.898657</td>\n",
       "    </tr>\n",
       "    <tr>\n",
       "      <th>min</th>\n",
       "      <td>200.000000</td>\n",
       "      <td>0.000000</td>\n",
       "      <td>0.025400</td>\n",
       "      <td>31.700000</td>\n",
       "      <td>0.000401</td>\n",
       "      <td>103.380000</td>\n",
       "    </tr>\n",
       "    <tr>\n",
       "      <th>25%</th>\n",
       "      <td>800.000000</td>\n",
       "      <td>2.000000</td>\n",
       "      <td>0.050800</td>\n",
       "      <td>39.600000</td>\n",
       "      <td>0.002535</td>\n",
       "      <td>120.191000</td>\n",
       "    </tr>\n",
       "    <tr>\n",
       "      <th>50%</th>\n",
       "      <td>1600.000000</td>\n",
       "      <td>5.400000</td>\n",
       "      <td>0.101600</td>\n",
       "      <td>39.600000</td>\n",
       "      <td>0.004957</td>\n",
       "      <td>125.721000</td>\n",
       "    </tr>\n",
       "    <tr>\n",
       "      <th>75%</th>\n",
       "      <td>4000.000000</td>\n",
       "      <td>9.900000</td>\n",
       "      <td>0.228600</td>\n",
       "      <td>71.300000</td>\n",
       "      <td>0.015576</td>\n",
       "      <td>129.995500</td>\n",
       "    </tr>\n",
       "    <tr>\n",
       "      <th>max</th>\n",
       "      <td>20000.000000</td>\n",
       "      <td>22.200000</td>\n",
       "      <td>0.304800</td>\n",
       "      <td>71.300000</td>\n",
       "      <td>0.058411</td>\n",
       "      <td>140.987000</td>\n",
       "    </tr>\n",
       "  </tbody>\n",
       "</table>\n",
       "</div>\n",
       "      <button class=\"colab-df-convert\" onclick=\"convertToInteractive('df-35ecb1a8-2bf3-495f-a4e1-563b84258ea1')\"\n",
       "              title=\"Convert this dataframe to an interactive table.\"\n",
       "              style=\"display:none;\">\n",
       "        \n",
       "  <svg xmlns=\"http://www.w3.org/2000/svg\" height=\"24px\"viewBox=\"0 0 24 24\"\n",
       "       width=\"24px\">\n",
       "    <path d=\"M0 0h24v24H0V0z\" fill=\"none\"/>\n",
       "    <path d=\"M18.56 5.44l.94 2.06.94-2.06 2.06-.94-2.06-.94-.94-2.06-.94 2.06-2.06.94zm-11 1L8.5 8.5l.94-2.06 2.06-.94-2.06-.94L8.5 2.5l-.94 2.06-2.06.94zm10 10l.94 2.06.94-2.06 2.06-.94-2.06-.94-.94-2.06-.94 2.06-2.06.94z\"/><path d=\"M17.41 7.96l-1.37-1.37c-.4-.4-.92-.59-1.43-.59-.52 0-1.04.2-1.43.59L10.3 9.45l-7.72 7.72c-.78.78-.78 2.05 0 2.83L4 21.41c.39.39.9.59 1.41.59.51 0 1.02-.2 1.41-.59l7.78-7.78 2.81-2.81c.8-.78.8-2.07 0-2.86zM5.41 20L4 18.59l7.72-7.72 1.47 1.35L5.41 20z\"/>\n",
       "  </svg>\n",
       "      </button>\n",
       "      \n",
       "  <style>\n",
       "    .colab-df-container {\n",
       "      display:flex;\n",
       "      flex-wrap:wrap;\n",
       "      gap: 12px;\n",
       "    }\n",
       "\n",
       "    .colab-df-convert {\n",
       "      background-color: #E8F0FE;\n",
       "      border: none;\n",
       "      border-radius: 50%;\n",
       "      cursor: pointer;\n",
       "      display: none;\n",
       "      fill: #1967D2;\n",
       "      height: 32px;\n",
       "      padding: 0 0 0 0;\n",
       "      width: 32px;\n",
       "    }\n",
       "\n",
       "    .colab-df-convert:hover {\n",
       "      background-color: #E2EBFA;\n",
       "      box-shadow: 0px 1px 2px rgba(60, 64, 67, 0.3), 0px 1px 3px 1px rgba(60, 64, 67, 0.15);\n",
       "      fill: #174EA6;\n",
       "    }\n",
       "\n",
       "    [theme=dark] .colab-df-convert {\n",
       "      background-color: #3B4455;\n",
       "      fill: #D2E3FC;\n",
       "    }\n",
       "\n",
       "    [theme=dark] .colab-df-convert:hover {\n",
       "      background-color: #434B5C;\n",
       "      box-shadow: 0px 1px 3px 1px rgba(0, 0, 0, 0.15);\n",
       "      filter: drop-shadow(0px 1px 2px rgba(0, 0, 0, 0.3));\n",
       "      fill: #FFFFFF;\n",
       "    }\n",
       "  </style>\n",
       "\n",
       "      <script>\n",
       "        const buttonEl =\n",
       "          document.querySelector('#df-35ecb1a8-2bf3-495f-a4e1-563b84258ea1 button.colab-df-convert');\n",
       "        buttonEl.style.display =\n",
       "          google.colab.kernel.accessAllowed ? 'block' : 'none';\n",
       "\n",
       "        async function convertToInteractive(key) {\n",
       "          const element = document.querySelector('#df-35ecb1a8-2bf3-495f-a4e1-563b84258ea1');\n",
       "          const dataTable =\n",
       "            await google.colab.kernel.invokeFunction('convertToInteractive',\n",
       "                                                     [key], {});\n",
       "          if (!dataTable) return;\n",
       "\n",
       "          const docLinkHtml = 'Like what you see? Visit the ' +\n",
       "            '<a target=\"_blank\" href=https://colab.research.google.com/notebooks/data_table.ipynb>data table notebook</a>'\n",
       "            + ' to learn more about interactive tables.';\n",
       "          element.innerHTML = '';\n",
       "          dataTable['output_type'] = 'display_data';\n",
       "          await google.colab.output.renderOutput(dataTable, element);\n",
       "          const docLink = document.createElement('div');\n",
       "          docLink.innerHTML = docLinkHtml;\n",
       "          element.appendChild(docLink);\n",
       "        }\n",
       "      </script>\n",
       "    </div>\n",
       "  </div>\n",
       "  "
      ],
      "text/plain": [
       "                  f        alpha            c   U_infinity        delta  \\\n",
       "count   1503.000000  1503.000000  1503.000000  1503.000000  1503.000000   \n",
       "mean    2886.380572     6.782302     0.136548    50.860745     0.011140   \n",
       "std     3152.573137     5.918128     0.093541    15.572784     0.013150   \n",
       "min      200.000000     0.000000     0.025400    31.700000     0.000401   \n",
       "25%      800.000000     2.000000     0.050800    39.600000     0.002535   \n",
       "50%     1600.000000     5.400000     0.101600    39.600000     0.004957   \n",
       "75%     4000.000000     9.900000     0.228600    71.300000     0.015576   \n",
       "max    20000.000000    22.200000     0.304800    71.300000     0.058411   \n",
       "\n",
       "              SSPL  \n",
       "count  1503.000000  \n",
       "mean    124.835943  \n",
       "std       6.898657  \n",
       "min     103.380000  \n",
       "25%     120.191000  \n",
       "50%     125.721000  \n",
       "75%     129.995500  \n",
       "max     140.987000  "
      ]
     },
     "execution_count": 89,
     "metadata": {},
     "output_type": "execute_result"
    }
   ],
   "source": [
    "df.describe()"
   ]
  },
  {
   "cell_type": "code",
   "execution_count": 90,
   "metadata": {
    "colab": {
     "base_uri": "https://localhost:8080/"
    },
    "id": "XrYwHrdCoK9-",
    "outputId": "e84a1e03-fa9e-4716-c561-c84c074c8dc2"
   },
   "outputs": [
    {
     "data": {
      "text/plain": [
       "f             0\n",
       "alpha         0\n",
       "c             0\n",
       "U_infinity    0\n",
       "delta         0\n",
       "SSPL          0\n",
       "dtype: int64"
      ]
     },
     "execution_count": 90,
     "metadata": {},
     "output_type": "execute_result"
    }
   ],
   "source": [
    "df.isnull().sum()"
   ]
  },
  {
   "cell_type": "code",
   "execution_count": 91,
   "metadata": {
    "colab": {
     "base_uri": "https://localhost:8080/"
    },
    "id": "-sBrgBH_oOFN",
    "outputId": "1bbabd9a-cb81-4a40-fe5a-405b6fc18e2f"
   },
   "outputs": [
    {
     "data": {
      "text/plain": [
       "0"
      ]
     },
     "execution_count": 91,
     "metadata": {},
     "output_type": "execute_result"
    }
   ],
   "source": [
    "df.duplicated().sum()"
   ]
  },
  {
   "cell_type": "code",
   "execution_count": 92,
   "metadata": {
    "colab": {
     "base_uri": "https://localhost:8080/",
     "height": 607
    },
    "id": "O7tu71NhoUs6",
    "outputId": "6e44cfb0-3181-4096-ce1b-fbfed561fc85"
   },
   "outputs": [
    {
     "data": {
      "image/png": "[encoded data removed]",
      "text/plain": [
       "<Figure size 720x720 with 6 Axes>"
      ]
     },
     "metadata": {
      "needs_background": "light"
     },
     "output_type": "display_data"
    }
   ],
   "source": [
    "#checking the distribution of the data\n",
    "df.hist(figsize=(10, 10))\n",
    "plt.show()"
   ]
  },
  {
   "cell_type": "code",
   "execution_count": 93,
   "metadata": {
    "colab": {
     "base_uri": "https://localhost:8080/",
     "height": 609
    },
    "id": "uah6AMSmo2aW",
    "outputId": "fd257b35-fa33-46a6-a7a9-32add43c10f8"
   },
   "outputs": [
    {
     "data": {
      "text/plain": [
       "[]"
      ]
     },
     "execution_count": 93,
     "metadata": {},
     "output_type": "execute_result"
    },
    {
     "data": {
      "image/png": "[encoded data removed]",
      "text/plain": [
       "<Figure size 1080x720 with 1 Axes>"
      ]
     },
     "metadata": {
      "needs_background": "light"
     },
     "output_type": "display_data"
    }
   ],
   "source": [
    "#checking for outliers\n",
    "df.boxplot(return_type='dict',figsize=(15,10))\n",
    "plt.plot()\n"
   ]
  },
  {
   "cell_type": "code",
   "execution_count": 94,
   "metadata": {
    "colab": {
     "base_uri": "https://localhost:8080/"
    },
    "id": "wY3Mb8kupOfy",
    "outputId": "98ce0986-ce5b-4e32-dd6d-2f161bc58f0f"
   },
   "outputs": [
    {
     "name": "stdout",
     "output_type": "stream",
     "text": [
      "240\n",
      "(1263, 6)\n"
     ]
    }
   ],
   "source": [
    "#removing outliers\n",
    "Q1 = df.quantile(0.25)\n",
    "Q3 = df.quantile(0.75)\n",
    "IQR=Q3-Q1\n",
    "df1 = df[~((df < (Q1 - 1.5 * IQR)) |(df > (Q3 + 1.5 * IQR))).any(axis=1)]\n",
    "print(df.shape[0] - df1.shape[0]) #Outliers\n",
    "print(df1.shape) #new dataset without Outliers"
   ]
  },
  {
   "cell_type": "code",
   "execution_count": 95,
   "metadata": {
    "colab": {
     "base_uri": "https://localhost:8080/",
     "height": 609
    },
    "id": "qyHcYcXgpY4N",
    "outputId": "8d498a0e-07f7-4724-f051-30eea7f6af3e"
   },
   "outputs": [
    {
     "data": {
      "text/plain": [
       "[]"
      ]
     },
     "execution_count": 95,
     "metadata": {},
     "output_type": "execute_result"
    },
    {
     "data": {
      "image/png": "[encoded data removed]",
      "text/plain": [
       "<Figure size 1080x720 with 1 Axes>"
      ]
     },
     "metadata": {
      "needs_background": "light"
     },
     "output_type": "display_data"
    }
   ],
   "source": [
    "#checking after removing\n",
    "df1.boxplot(return_type='dict',figsize=(15,10))\n",
    "plt.plot()"
   ]
  },
  {
   "cell_type": "code",
   "execution_count": 96,
   "metadata": {
    "colab": {
     "base_uri": "https://localhost:8080/",
     "height": 608
    },
    "id": "dTDlk7mMoaKW",
    "outputId": "890e6a72-120b-4276-9436-e5dd532c6b1f"
   },
   "outputs": [
    {
     "data": {
      "image/png": "[encoded data removed]",
      "text/plain": [
       "<Figure size 1440x720 with 2 Axes>"
      ]
     },
     "metadata": {
      "needs_background": "light"
     },
     "output_type": "display_data"
    }
   ],
   "source": [
    "#checking the correlation between features\n",
    "f, ax = plt.subplots(figsize=(20, 10))\n",
    "corr = df.corr()\n",
    "sns.heatmap(corr, mask=np.zeros_like(corr, dtype=np.bool), cmap=sns.diverging_palette(220, 10, as_cmap=True), annot = True, square=True, ax=ax)\n",
    "plt.title('The Correlation Between Features')\n",
    "plt.show()"
   ]
  },
  {
   "cell_type": "markdown",
   "metadata": {
    "id": "XcxLnnDIyMKc"
   },
   "source": [
    "# Feature Selection"
   ]
  },
  {
   "cell_type": "code",
   "execution_count": 97,
   "metadata": {
    "id": "U6gdCbi-qW7h"
   },
   "outputs": [],
   "source": [
    "X = df1.iloc[:,0:-1]\n",
    "y = df1[\"SSPL\"]"
   ]
  },
  {
   "cell_type": "code",
   "execution_count": 98,
   "metadata": {
    "id": "uum2eb2Vqmg2"
   },
   "outputs": [],
   "source": [
    "X_train, X_test, y_train, y_test = train_test_split(X, y, random_state=42)"
   ]
  },
  {
   "cell_type": "code",
   "execution_count": 99,
   "metadata": {
    "colab": {
     "base_uri": "https://localhost:8080/"
    },
    "id": "OGLe9TySozTR",
    "outputId": "4838074b-ba94-4a94-90e6-8f0483196688"
   },
   "outputs": [
    {
     "data": {
      "text/plain": [
       "array([ True, False,  True, False,  True])"
      ]
     },
     "execution_count": 99,
     "metadata": {},
     "output_type": "execute_result"
    }
   ],
   "source": [
    "#performing feature selection using SFS\n",
    "\n",
    "lr=LinearRegression()\n",
    "sfs=SequentialFeatureSelector(lr,n_features_to_select=0.7)\n",
    "sfs.fit(X_train,y_train)\n",
    "sfs.get_support()"
   ]
  },
  {
   "cell_type": "code",
   "execution_count": 100,
   "metadata": {
    "colab": {
     "base_uri": "https://localhost:8080/",
     "height": 195
    },
    "id": "86O-_f-9upnU",
    "outputId": "de41a3eb-4a09-4ca2-8a0d-c33aaf2e19f4"
   },
   "outputs": [
    {
     "data": {
      "text/html": [
       "\n",
       "  <div id=\"df-fbe9f3f1-3a2f-4ca8-91e7-51ec7917e8f2\">\n",
       "    <div class=\"colab-df-container\">\n",
       "      <div>\n",
       "<style scoped>\n",
       "    .dataframe tbody tr th:only-of-type {\n",
       "        vertical-align: middle;\n",
       "    }\n",
       "\n",
       "    .dataframe tbody tr th {\n",
       "        vertical-align: top;\n",
       "    }\n",
       "\n",
       "    .dataframe thead th {\n",
       "        text-align: right;\n",
       "    }\n",
       "</style>\n",
       "<table border=\"1\" class=\"dataframe\">\n",
       "  <thead>\n",
       "    <tr style=\"text-align: right;\">\n",
       "      <th></th>\n",
       "      <th>f</th>\n",
       "      <th>c</th>\n",
       "      <th>delta</th>\n",
       "      <th>SSPL</th>\n",
       "    </tr>\n",
       "  </thead>\n",
       "  <tbody>\n",
       "    <tr>\n",
       "      <th>0</th>\n",
       "      <td>800</td>\n",
       "      <td>0.3048</td>\n",
       "      <td>0.002663</td>\n",
       "      <td>126.201</td>\n",
       "    </tr>\n",
       "    <tr>\n",
       "      <th>1</th>\n",
       "      <td>1000</td>\n",
       "      <td>0.3048</td>\n",
       "      <td>0.002663</td>\n",
       "      <td>125.201</td>\n",
       "    </tr>\n",
       "    <tr>\n",
       "      <th>2</th>\n",
       "      <td>1250</td>\n",
       "      <td>0.3048</td>\n",
       "      <td>0.002663</td>\n",
       "      <td>125.951</td>\n",
       "    </tr>\n",
       "    <tr>\n",
       "      <th>3</th>\n",
       "      <td>1600</td>\n",
       "      <td>0.3048</td>\n",
       "      <td>0.002663</td>\n",
       "      <td>127.591</td>\n",
       "    </tr>\n",
       "    <tr>\n",
       "      <th>4</th>\n",
       "      <td>2000</td>\n",
       "      <td>0.3048</td>\n",
       "      <td>0.002663</td>\n",
       "      <td>127.461</td>\n",
       "    </tr>\n",
       "  </tbody>\n",
       "</table>\n",
       "</div>\n",
       "      <button class=\"colab-df-convert\" onclick=\"convertToInteractive('df-fbe9f3f1-3a2f-4ca8-91e7-51ec7917e8f2')\"\n",
       "              title=\"Convert this dataframe to an interactive table.\"\n",
       "              style=\"display:none;\">\n",
       "        \n",
       "  <svg xmlns=\"http://www.w3.org/2000/svg\" height=\"24px\"viewBox=\"0 0 24 24\"\n",
       "       width=\"24px\">\n",
       "    <path d=\"M0 0h24v24H0V0z\" fill=\"none\"/>\n",
       "    <path d=\"M18.56 5.44l.94 2.06.94-2.06 2.06-.94-2.06-.94-.94-2.06-.94 2.06-2.06.94zm-11 1L8.5 8.5l.94-2.06 2.06-.94-2.06-.94L8.5 2.5l-.94 2.06-2.06.94zm10 10l.94 2.06.94-2.06 2.06-.94-2.06-.94-.94-2.06-.94 2.06-2.06.94z\"/><path d=\"M17.41 7.96l-1.37-1.37c-.4-.4-.92-.59-1.43-.59-.52 0-1.04.2-1.43.59L10.3 9.45l-7.72 7.72c-.78.78-.78 2.05 0 2.83L4 21.41c.39.39.9.59 1.41.59.51 0 1.02-.2 1.41-.59l7.78-7.78 2.81-2.81c.8-.78.8-2.07 0-2.86zM5.41 20L4 18.59l7.72-7.72 1.47 1.35L5.41 20z\"/>\n",
       "  </svg>\n",
       "      </button>\n",
       "      \n",
       "  <style>\n",
       "    .colab-df-container {\n",
       "      display:flex;\n",
       "      flex-wrap:wrap;\n",
       "      gap: 12px;\n",
       "    }\n",
       "\n",
       "    .colab-df-convert {\n",
       "      background-color: #E8F0FE;\n",
       "      border: none;\n",
       "      border-radius: 50%;\n",
       "      cursor: pointer;\n",
       "      display: none;\n",
       "      fill: #1967D2;\n",
       "      height: 32px;\n",
       "      padding: 0 0 0 0;\n",
       "      width: 32px;\n",
       "    }\n",
       "\n",
       "    .colab-df-convert:hover {\n",
       "      background-color: #E2EBFA;\n",
       "      box-shadow: 0px 1px 2px rgba(60, 64, 67, 0.3), 0px 1px 3px 1px rgba(60, 64, 67, 0.15);\n",
       "      fill: #174EA6;\n",
       "    }\n",
       "\n",
       "    [theme=dark] .colab-df-convert {\n",
       "      background-color: #3B4455;\n",
       "      fill: #D2E3FC;\n",
       "    }\n",
       "\n",
       "    [theme=dark] .colab-df-convert:hover {\n",
       "      background-color: #434B5C;\n",
       "      box-shadow: 0px 1px 3px 1px rgba(0, 0, 0, 0.15);\n",
       "      filter: drop-shadow(0px 1px 2px rgba(0, 0, 0, 0.3));\n",
       "      fill: #FFFFFF;\n",
       "    }\n",
       "  </style>\n",
       "\n",
       "      <script>\n",
       "        const buttonEl =\n",
       "          document.querySelector('#df-fbe9f3f1-3a2f-4ca8-91e7-51ec7917e8f2 button.colab-df-convert');\n",
       "        buttonEl.style.display =\n",
       "          google.colab.kernel.accessAllowed ? 'block' : 'none';\n",
       "\n",
       "        async function convertToInteractive(key) {\n",
       "          const element = document.querySelector('#df-fbe9f3f1-3a2f-4ca8-91e7-51ec7917e8f2');\n",
       "          const dataTable =\n",
       "            await google.colab.kernel.invokeFunction('convertToInteractive',\n",
       "                                                     [key], {});\n",
       "          if (!dataTable) return;\n",
       "\n",
       "          const docLinkHtml = 'Like what you see? Visit the ' +\n",
       "            '<a target=\"_blank\" href=https://colab.research.google.com/notebooks/data_table.ipynb>data table notebook</a>'\n",
       "            + ' to learn more about interactive tables.';\n",
       "          element.innerHTML = '';\n",
       "          dataTable['output_type'] = 'display_data';\n",
       "          await google.colab.output.renderOutput(dataTable, element);\n",
       "          const docLink = document.createElement('div');\n",
       "          docLink.innerHTML = docLinkHtml;\n",
       "          element.appendChild(docLink);\n",
       "        }\n",
       "      </script>\n",
       "    </div>\n",
       "  </div>\n",
       "  "
      ],
      "text/plain": [
       "      f       c     delta     SSPL\n",
       "0   800  0.3048  0.002663  126.201\n",
       "1  1000  0.3048  0.002663  125.201\n",
       "2  1250  0.3048  0.002663  125.951\n",
       "3  1600  0.3048  0.002663  127.591\n",
       "4  2000  0.3048  0.002663  127.461"
      ]
     },
     "execution_count": 100,
     "metadata": {},
     "output_type": "execute_result"
    }
   ],
   "source": [
    "df2=df1[['f','c','delta', 'SSPL']]\n",
    "df2.head()"
   ]
  },
  {
   "cell_type": "markdown",
   "metadata": {
    "id": "iB3vObx1ykeA"
   },
   "source": [
    "# Modelling"
   ]
  },
  {
   "cell_type": "markdown",
   "metadata": {
    "id": "jAhLufm_yqfR"
   },
   "source": [
    "**The regression algorithms we'll be using are:** <br> \n",
    "<li> Decision Tree Regressor</li>\n",
    "<li> Linear Regression</li>\n",
    "<li> K-nearest neighbors Regressor</li> <br>"
   ]
  },
  {
   "cell_type": "markdown",
   "metadata": {
    "id": "a0BA3eAJBioH"
   },
   "source": [
    "**For each model, we'll train it twice, once before feature selection, and once after it. To compare and see if the feature selection has improved the models.**"
   ]
  },
  {
   "cell_type": "code",
   "execution_count": 101,
   "metadata": {
    "id": "0YC3KYBPfCTY"
   },
   "outputs": [],
   "source": [
    "def plot_learning_curve(model, x, y):\n",
    "  train_sizes, train_scores, test_scores = learning_curve(model, x, y, cv=5, scoring='neg_root_mean_squared_error')\n",
    "\n",
    "  train_mean = np.mean(train_scores, axis=1)\n",
    "  train_std = np.std(train_scores, axis=1)\n",
    "  test_mean = np.mean(test_scores, axis=1)\n",
    "  test_std = np.std(test_scores, axis=1)\n",
    "  \n",
    "  plt.subplots(1, figsize=(5,5))\n",
    "  plt.plot(train_sizes, train_mean, color=\"b\",  label=\"Training score\")\n",
    "  plt.plot(train_sizes, test_mean, color=\"r\", label=\"Cross-validation score\")\n",
    "\n",
    "  plt.title(\"Learning Curve\")\n",
    "  plt.xlabel(\"Training Set Size\"), plt.ylabel(\"Error\"), plt.legend(loc=\"best\")\n",
    "  plt.tight_layout()\n",
    "  plt.show()"
   ]
  },
  {
   "cell_type": "code",
   "execution_count": 102,
   "metadata": {
    "colab": {
     "base_uri": "https://localhost:8080/"
    },
    "id": "BXx1ukodwWAD",
    "outputId": "523cdaba-7f8f-44df-bfe9-17a63fd95330"
   },
   "outputs": [
    {
     "name": "stdout",
     "output_type": "stream",
     "text": [
      "(1263, 3) (1263,)\n"
     ]
    }
   ],
   "source": [
    "X1 = df2.iloc[:,0:-1]\n",
    "y1 = df2[\"SSPL\"]\n",
    "\n",
    "print(X1.shape,y1.shape)\n",
    "X_train_1, X_test_1, y_train_1, y_test_1 = train_test_split(X1, y1,test_size=0.4, random_state=42)"
   ]
  },
  {
   "cell_type": "code",
   "execution_count": 103,
   "metadata": {
    "id": "c1KC1TWGqukf"
   },
   "outputs": [],
   "source": [
    "x_scaler = StandardScaler()\n",
    "\n",
    "x_train = x_scaler.fit_transform(X_train)\n",
    "x_test = x_scaler.transform(X_test)\n",
    "\n",
    "x_scaler = StandardScaler()\n",
    "\n",
    "x_train1 = x_scaler.fit_transform(X_train_1)\n",
    "x_test1 = x_scaler.transform(X_test_1)"
   ]
  },
  {
   "cell_type": "markdown",
   "metadata": {
    "id": "urIirdlB64sE"
   },
   "source": [
    "# Linear Regression"
   ]
  },
  {
   "cell_type": "markdown",
   "metadata": {
    "id": "t-TgW29OBxdj"
   },
   "source": [
    "**Before Feature Selection**"
   ]
  },
  {
   "cell_type": "code",
   "execution_count": 143,
   "metadata": {
    "id": "dsvw1vIfxlt0"
   },
   "outputs": [],
   "source": [
    "linear_reg = LinearRegression()\n",
    "linear_reg.fit(X_train, y_train)\n",
    "reg_y_pred = linear_reg.predict(X_test)"
   ]
  },
  {
   "cell_type": "code",
   "execution_count": 144,
   "metadata": {
    "colab": {
     "base_uri": "https://localhost:8080/"
    },
    "id": "Z4IizpJezJor",
    "outputId": "ac7aad67-a935-4c46-bfb0-6b3db9af29b0"
   },
   "outputs": [
    {
     "name": "stdout",
     "output_type": "stream",
     "text": [
      "The R2 Score is :  0.4734600850785211\n",
      "The Mean Absolute Error is :  3.808352890633248\n",
      "The Mean Squared Error is :  23.648982549809222\n",
      "The Root Mean Squared Error is :  4.863021956541963\n"
     ]
    }
   ],
   "source": [
    "print(f'The R2 Score is : ', r2_score(y_test, reg_y_pred))\n",
    "print(f'The Mean Absolute Error is : ', mean_absolute_error(y_test, reg_y_pred))\n",
    "print(f'The Mean Squared Error is : ', mean_squared_error(y_test, reg_y_pred))\n",
    "print(f'The Root Mean Squared Error is : ', np.sqrt(mean_squared_error(y_test, reg_y_pred)))"
   ]
  },
  {
   "cell_type": "code",
   "execution_count": 183,
   "metadata": {
    "colab": {
     "base_uri": "https://localhost:8080/"
    },
    "id": "nVJw6neDruN2",
    "outputId": "61c10b75-627c-4e74-f61b-d2da4ed68daa"
   },
   "outputs": [
    {
     "data": {
      "text/plain": [
       "4.863021956541963"
      ]
     },
     "execution_count": 183,
     "metadata": {},
     "output_type": "execute_result"
    }
   ],
   "source": [
    "reg_error = np.sqrt(mean_squared_error(y_test, reg_y_pred))\n",
    "reg_error"
   ]
  },
  {
   "cell_type": "code",
   "execution_count": 145,
   "metadata": {
    "colab": {
     "base_uri": "https://localhost:8080/",
     "height": 369
    },
    "id": "L3Jro4y5fT9f",
    "outputId": "8f37050d-1efb-40b9-e726-9883ceaba3f1"
   },
   "outputs": [
    {
     "data": {
      "image/png": "[encoded data removed]",
      "text/plain": [
       "<Figure size 360x360 with 1 Axes>"
      ]
     },
     "metadata": {
      "needs_background": "light"
     },
     "output_type": "display_data"
    }
   ],
   "source": [
    "plot_learning_curve(linear_reg, X, y)"
   ]
  },
  {
   "cell_type": "markdown",
   "metadata": {
    "id": "YrodzJQq7kbS"
   },
   "source": [
    "**After feature Selection**"
   ]
  },
  {
   "cell_type": "code",
   "execution_count": 147,
   "metadata": {
    "id": "XacdRN_R0gZK"
   },
   "outputs": [],
   "source": [
    "linear_reg1 = LinearRegression()\n",
    "linear_reg1.fit(X_train_1, y_train_1)\n",
    "reg_y_pred1 = linear_reg1.predict(X_test_1)"
   ]
  },
  {
   "cell_type": "code",
   "execution_count": 148,
   "metadata": {
    "colab": {
     "base_uri": "https://localhost:8080/"
    },
    "id": "FbuHX0tu6kft",
    "outputId": "25d5c833-286b-40c3-e5cd-61c7400dad71"
   },
   "outputs": [
    {
     "name": "stdout",
     "output_type": "stream",
     "text": [
      "The R2 Score is :  0.36516469976814303\n",
      "The Mean Absolute Error is :  4.061742937938441\n",
      "The Mean Squared Error is :  27.254606167275156\n",
      "The Root Mean Squared Error is :  5.220594426621854\n"
     ]
    }
   ],
   "source": [
    "print(f'The R2 Score is : ', r2_score(y_test_1, reg_y_pred1))\n",
    "print(f'The Mean Absolute Error is : ', mean_absolute_error(y_test_1, reg_y_pred1))\n",
    "print(f'The Mean Squared Error is : ', mean_squared_error(y_test_1, reg_y_pred1))\n",
    "print(f'The Root Mean Squared Error is : ', np.sqrt(mean_squared_error(y_test_1, reg_y_pred1)))"
   ]
  },
  {
   "cell_type": "code",
   "execution_count": 182,
   "metadata": {
    "colab": {
     "base_uri": "https://localhost:8080/"
    },
    "id": "t8MV4hTWrmV-",
    "outputId": "f00234d6-ab55-4087-ad0d-3cbb943e4d17"
   },
   "outputs": [
    {
     "data": {
      "text/plain": [
       "5.220594426621854"
      ]
     },
     "execution_count": 182,
     "metadata": {},
     "output_type": "execute_result"
    }
   ],
   "source": [
    "reg1_error = np.sqrt(mean_squared_error(y_test_1, reg_y_pred1))\n",
    "reg1_error"
   ]
  },
  {
   "cell_type": "code",
   "execution_count": 149,
   "metadata": {
    "colab": {
     "base_uri": "https://localhost:8080/",
     "height": 369
    },
    "id": "es-Sy4Ypg9tu",
    "outputId": "1873b104-d312-4b03-a8cc-11f36f1ce0a7"
   },
   "outputs": [
    {
     "data": {
      "image/png": "[encoded data removed]",
      "text/plain": [
       "<Figure size 360x360 with 1 Axes>"
      ]
     },
     "metadata": {
      "needs_background": "light"
     },
     "output_type": "display_data"
    }
   ],
   "source": [
    "plot_learning_curve(linear_reg, X1, y1)"
   ]
  },
  {
   "cell_type": "markdown",
   "metadata": {
    "id": "YWpaAdaK69mG"
   },
   "source": [
    "# Decision Tree Regressor"
   ]
  },
  {
   "cell_type": "markdown",
   "metadata": {
    "id": "1OlCgrz5B2bu"
   },
   "source": [
    "**Before Feature Selection**"
   ]
  },
  {
   "cell_type": "code",
   "execution_count": 150,
   "metadata": {
    "id": "MDv6xWrr6qhk"
   },
   "outputs": [],
   "source": [
    "TreeRegressor = DecisionTreeRegressor()\n",
    "TreeRegressor.fit(X_train, y_train)\n",
    "tree_y_pred = TreeRegressor.predict(X_test)"
   ]
  },
  {
   "cell_type": "code",
   "execution_count": 151,
   "metadata": {
    "colab": {
     "base_uri": "https://localhost:8080/"
    },
    "id": "Hz5ZqlPS7RzC",
    "outputId": "98dbfbfb-89b1-4cd5-d0f1-ef5424ab2317"
   },
   "outputs": [
    {
     "name": "stdout",
     "output_type": "stream",
     "text": [
      "The R2 Score is :  0.8759326254394915\n",
      "The Mean Absolute Error is :  1.7258575949367092\n",
      "The Mean Squared Error is :  5.572354712025315\n",
      "The Root Mean Squared Error is :  2.3605835532819666\n"
     ]
    }
   ],
   "source": [
    "print(f'The R2 Score is : ', r2_score(y_test, tree_y_pred))\n",
    "print(f'The Mean Absolute Error is : ', mean_absolute_error(y_test, tree_y_pred))\n",
    "print(f'The Mean Squared Error is : ', mean_squared_error(y_test, tree_y_pred))\n",
    "print(f'The Root Mean Squared Error is : ', np.sqrt(mean_squared_error(y_test, tree_y_pred)))"
   ]
  },
  {
   "cell_type": "code",
   "execution_count": 152,
   "metadata": {
    "colab": {
     "base_uri": "https://localhost:8080/",
     "height": 280
    },
    "id": "XAn3dBOJIWSg",
    "outputId": "504ea706-4015-404e-b01a-a14536c8209d"
   },
   "outputs": [
    {
     "data": {
      "image/png": "[encoded data removed]",
      "text/plain": [
       "<Figure size 432x288 with 1 Axes>"
      ]
     },
     "metadata": {
      "needs_background": "light"
     },
     "output_type": "display_data"
    }
   ],
   "source": [
    "min_samples_split = range(2,10)\n",
    "scores = []\n",
    "for m in min_samples_split:\n",
    "    TreeRegressor = DecisionTreeRegressor(min_samples_split=m)\n",
    "    TreeRegressor.fit(X_train, y_train)\n",
    "    tree_y_pred = TreeRegressor.predict(X_test)\n",
    "    scores.append(metrics.mean_squared_error(y_test, tree_y_pred))\n",
    "plt.plot(min_samples_split, scores)\n",
    "plt.xlabel('Value of min_samples_split')\n",
    "plt.ylabel('Mean Squared Error')\n",
    "plt.show()\n"
   ]
  },
  {
   "cell_type": "code",
   "execution_count": 154,
   "metadata": {
    "id": "avjbwtd-Nxbu"
   },
   "outputs": [],
   "source": [
    "TreeRegressor = DecisionTreeRegressor(min_samples_split=3)\n",
    "TreeRegressor.fit(X_train, y_train)\n",
    "tree_y_pred = TreeRegressor.predict(X_test)"
   ]
  },
  {
   "cell_type": "code",
   "execution_count": 155,
   "metadata": {
    "colab": {
     "base_uri": "https://localhost:8080/"
    },
    "id": "aqDGy22RNxbu",
    "outputId": "9493cbc1-cd7b-4029-adc7-fbd0b7bef5fb"
   },
   "outputs": [
    {
     "name": "stdout",
     "output_type": "stream",
     "text": [
      "The R2 Score is :  0.8796274592096762\n",
      "The Mean Absolute Error is :  1.7033876582278484\n",
      "The Mean Squared Error is :  5.406405166930379\n",
      "The Root Mean Squared Error is :  2.325167771781292\n"
     ]
    }
   ],
   "source": [
    "print(f'The R2 Score is : ', r2_score(y_test, tree_y_pred))\n",
    "print(f'The Mean Absolute Error is : ', mean_absolute_error(y_test, tree_y_pred))\n",
    "print(f'The Mean Squared Error is : ', mean_squared_error(y_test, tree_y_pred))\n",
    "print(f'The Root Mean Squared Error is : ', np.sqrt(mean_squared_error(y_test, tree_y_pred)))"
   ]
  },
  {
   "cell_type": "code",
   "execution_count": 179,
   "metadata": {
    "colab": {
     "base_uri": "https://localhost:8080/"
    },
    "id": "8GXDYpberfnA",
    "outputId": "b78619ee-f9fc-45b4-cbff-159e23790e09"
   },
   "outputs": [
    {
     "data": {
      "text/plain": [
       "2.325167771781292"
      ]
     },
     "execution_count": 179,
     "metadata": {},
     "output_type": "execute_result"
    }
   ],
   "source": [
    "tree_error = np.sqrt(mean_squared_error(y_test, tree_y_pred))\n",
    "tree_error"
   ]
  },
  {
   "cell_type": "code",
   "execution_count": 156,
   "metadata": {
    "colab": {
     "base_uri": "https://localhost:8080/",
     "height": 369
    },
    "id": "BDI2YvfulRld",
    "outputId": "b8c30517-5dc4-4afe-ad01-43c55ee55322"
   },
   "outputs": [
    {
     "data": {
      "image/png": "[encoded data removed]",
      "text/plain": [
       "<Figure size 360x360 with 1 Axes>"
      ]
     },
     "metadata": {
      "needs_background": "light"
     },
     "output_type": "display_data"
    }
   ],
   "source": [
    "plot_learning_curve(TreeRegressor, X, y)"
   ]
  },
  {
   "cell_type": "markdown",
   "metadata": {
    "id": "in6V80mG7qLC"
   },
   "source": [
    "**After feature Selection**"
   ]
  },
  {
   "cell_type": "code",
   "execution_count": 158,
   "metadata": {
    "id": "--O3skI67WOp"
   },
   "outputs": [],
   "source": [
    "TreeRegressor1 = DecisionTreeRegressor()\n",
    "TreeRegressor1.fit(X_train_1, y_train_1)\n",
    "tree_y_pred1 = TreeRegressor1.predict(X_test_1)"
   ]
  },
  {
   "cell_type": "code",
   "execution_count": 159,
   "metadata": {
    "colab": {
     "base_uri": "https://localhost:8080/"
    },
    "id": "cfAqEUnF7zYd",
    "outputId": "f419712c-3f90-431a-fabb-d71227ca0c9a"
   },
   "outputs": [
    {
     "name": "stdout",
     "output_type": "stream",
     "text": [
      "The R2 Score is :  0.8149695150733717\n",
      "The Mean Absolute Error is :  1.9741798418972327\n",
      "The Mean Squared Error is :  7.943687116600788\n",
      "The Root Mean Squared Error is :  2.8184547391435593\n"
     ]
    }
   ],
   "source": [
    "print(f'The R2 Score is : ', r2_score(y_test_1, tree_y_pred1))\n",
    "print(f'The Mean Absolute Error is : ', mean_absolute_error(y_test_1, tree_y_pred1))\n",
    "print(f'The Mean Squared Error is : ', mean_squared_error(y_test_1, tree_y_pred1))\n",
    "print(f'The Root Mean Squared Error is : ', np.sqrt(mean_squared_error(y_test_1, tree_y_pred1)))"
   ]
  },
  {
   "cell_type": "code",
   "execution_count": 160,
   "metadata": {
    "colab": {
     "base_uri": "https://localhost:8080/",
     "height": 280
    },
    "id": "Crq8bEV5OnzC",
    "outputId": "4ab75597-5f4c-44af-d388-5a313f414040"
   },
   "outputs": [
    {
     "data": {
      "image/png": "[encoded data removed]",
      "text/plain": [
       "<Figure size 432x288 with 1 Axes>"
      ]
     },
     "metadata": {
      "needs_background": "light"
     },
     "output_type": "display_data"
    }
   ],
   "source": [
    "min_samples_split = range(2,10)\n",
    "scores = []\n",
    "for m in min_samples_split:\n",
    "    TreeRegressor = DecisionTreeRegressor(min_samples_split=m)\n",
    "    TreeRegressor.fit(X_train_1, y_train_1)\n",
    "    tree_y_pred1 = TreeRegressor.predict(X_test_1)\n",
    "    scores.append(metrics.mean_squared_error(y_test_1, tree_y_pred1))\n",
    "plt.plot(min_samples_split, scores)\n",
    "plt.xlabel('Value of min_samples_split')\n",
    "plt.ylabel('Mean Squared Error')\n",
    "plt.show()\n"
   ]
  },
  {
   "cell_type": "code",
   "execution_count": 161,
   "metadata": {
    "id": "y1-n_sLUli58"
   },
   "outputs": [],
   "source": [
    "TreeRegressor1 = DecisionTreeRegressor(min_samples_split = 6)\n",
    "TreeRegressor1.fit(X_train_1, y_train_1)\n",
    "tree_y_pred1 = TreeRegressor1.predict(X_test_1)"
   ]
  },
  {
   "cell_type": "code",
   "execution_count": 162,
   "metadata": {
    "colab": {
     "base_uri": "https://localhost:8080/"
    },
    "id": "yP-LkhdvlpGN",
    "outputId": "218ea8a0-b2af-4556-aa2d-db58bb2f5619"
   },
   "outputs": [
    {
     "name": "stdout",
     "output_type": "stream",
     "text": [
      "The R2 Score is :  0.8298218528105308\n",
      "The Mean Absolute Error is :  2.039755731225296\n",
      "The Mean Squared Error is :  7.306049897086077\n",
      "The Root Mean Squared Error is :  2.7029705690380865\n"
     ]
    }
   ],
   "source": [
    "print(f'The R2 Score is : ', r2_score(y_test_1, tree_y_pred1))\n",
    "print(f'The Mean Absolute Error is : ', mean_absolute_error(y_test_1, tree_y_pred1))\n",
    "print(f'The Mean Squared Error is : ', mean_squared_error(y_test_1, tree_y_pred1))\n",
    "print(f'The Root Mean Squared Error is : ', np.sqrt(mean_squared_error(y_test_1, tree_y_pred1)))"
   ]
  },
  {
   "cell_type": "code",
   "execution_count": 178,
   "metadata": {
    "colab": {
     "base_uri": "https://localhost:8080/"
    },
    "id": "LYWRbO6vrZX_",
    "outputId": "ac233c4b-c9b7-4718-e3f6-9c04893cc426"
   },
   "outputs": [
    {
     "data": {
      "text/plain": [
       "2.7029705690380865"
      ]
     },
     "execution_count": 178,
     "metadata": {},
     "output_type": "execute_result"
    }
   ],
   "source": [
    "tree1_error =  np.sqrt(mean_squared_error(y_test_1, tree_y_pred1))\n",
    "tree1_error"
   ]
  },
  {
   "cell_type": "code",
   "execution_count": 138,
   "metadata": {
    "colab": {
     "base_uri": "https://localhost:8080/",
     "height": 369
    },
    "id": "x9zIloNYlsIC",
    "outputId": "2e912e06-3e7d-4356-ede3-02145566e7c5"
   },
   "outputs": [
    {
     "data": {
      "image/png": "[encoded data removed]",
      "text/plain": [
       "<Figure size 360x360 with 1 Axes>"
      ]
     },
     "metadata": {
      "needs_background": "light"
     },
     "output_type": "display_data"
    }
   ],
   "source": [
    "plot_learning_curve(TreeRegressor1, X1, y1)"
   ]
  },
  {
   "cell_type": "markdown",
   "metadata": {
    "id": "rio7b2QP8oF6"
   },
   "source": [
    "# K-nearest neighbors Regressor"
   ]
  },
  {
   "cell_type": "markdown",
   "metadata": {
    "id": "B-CHxk1dB3ai"
   },
   "source": [
    "**Before Feature Selection**"
   ]
  },
  {
   "cell_type": "code",
   "execution_count": 164,
   "metadata": {
    "id": "wLqCDIM771D5"
   },
   "outputs": [],
   "source": [
    "knn = KNeighborsRegressor()\n",
    "knn.fit(X_train, y_train)\n",
    "knn_y_pred = knn.predict(X_test)"
   ]
  },
  {
   "cell_type": "code",
   "execution_count": 165,
   "metadata": {
    "colab": {
     "base_uri": "https://localhost:8080/"
    },
    "id": "3agolajQ86DQ",
    "outputId": "67914896-35df-4ac5-ae3a-2cd1c75e4f8b"
   },
   "outputs": [
    {
     "name": "stdout",
     "output_type": "stream",
     "text": [
      "The R2 Score is :  0.1990085521507765\n",
      "The Mean Absolute Error is :  4.832634810126583\n",
      "The Mean Squared Error is :  35.975682442911406\n",
      "The Root Mean Squared Error is :  5.997973194580934\n"
     ]
    }
   ],
   "source": [
    "print(f'The R2 Score is : ', r2_score(y_test, knn_y_pred))\n",
    "print(f'The Mean Absolute Error is : ', mean_absolute_error(y_test, knn_y_pred))\n",
    "print(f'The Mean Squared Error is : ', mean_squared_error(y_test, knn_y_pred))\n",
    "print(f'The Root Mean Squared Error is : ', np.sqrt(mean_squared_error(y_test, knn_y_pred)))"
   ]
  },
  {
   "cell_type": "code",
   "execution_count": 166,
   "metadata": {
    "colab": {
     "base_uri": "https://localhost:8080/",
     "height": 279
    },
    "id": "GvxmX9teG_iw",
    "outputId": "b918d9ca-62eb-4ee2-b0ad-aa2503492414"
   },
   "outputs": [
    {
     "data": {
      "image/png": "[encoded data removed]",
      "text/plain": [
       "<Figure size 432x288 with 1 Axes>"
      ]
     },
     "metadata": {
      "needs_background": "light"
     },
     "output_type": "display_data"
    }
   ],
   "source": [
    "#Trying different values of K to see which give best results\n",
    "k_range = range(1,10,2)\n",
    "scores = []\n",
    "for k in k_range:\n",
    "    knn = KNeighborsRegressor(n_neighbors=k, metric='euclidean')\n",
    "    knn.fit(X_train, y_train)\n",
    "    knn_y_pred = knn.predict(X_test)\n",
    "    scores.append(metrics.mean_squared_error(y_test, knn_y_pred))\n",
    "#Testing the Accuracy for each K value from 1 to 9\n",
    "plt.plot(k_range, scores)\n",
    "plt.xlabel('Value of K for KNN')\n",
    "plt.ylabel('Mean Squared Error')\n",
    "plt.show()\n"
   ]
  },
  {
   "cell_type": "code",
   "execution_count": 167,
   "metadata": {
    "id": "AM1fVTkjHvTj"
   },
   "outputs": [],
   "source": [
    "#trying the best value of K \n",
    "knn = KNeighborsRegressor(n_neighbors= 9)\n",
    "knn.fit(X_train, y_train)\n",
    "knn_y_pred = knn.predict(X_test)"
   ]
  },
  {
   "cell_type": "code",
   "execution_count": 168,
   "metadata": {
    "colab": {
     "base_uri": "https://localhost:8080/"
    },
    "id": "jV-UzYDrH6Pb",
    "outputId": "bcdb9c1a-2d66-44e1-b501-a846b80347e2"
   },
   "outputs": [
    {
     "name": "stdout",
     "output_type": "stream",
     "text": [
      "The R2 Score is :  0.23457461843110927\n",
      "The Mean Absolute Error is :  4.771594936708861\n",
      "The Mean Squared Error is :  34.37827024871074\n",
      "The Root Mean Squared Error is :  5.8632985808937566\n"
     ]
    }
   ],
   "source": [
    "print(f'The R2 Score is : ', r2_score(y_test, knn_y_pred))\n",
    "print(f'The Mean Absolute Error is : ', mean_absolute_error(y_test, knn_y_pred))\n",
    "print(f'The Mean Squared Error is : ', mean_squared_error(y_test, knn_y_pred))\n",
    "print(f'The Root Mean Squared Error is : ', np.sqrt(mean_squared_error(y_test, knn_y_pred)))"
   ]
  },
  {
   "cell_type": "code",
   "execution_count": 177,
   "metadata": {
    "colab": {
     "base_uri": "https://localhost:8080/"
    },
    "id": "BZlHScLXrQqx",
    "outputId": "e883c458-5045-4780-d6e8-36feae68b11f"
   },
   "outputs": [
    {
     "data": {
      "text/plain": [
       "5.8632985808937566"
      ]
     },
     "execution_count": 177,
     "metadata": {},
     "output_type": "execute_result"
    }
   ],
   "source": [
    "knn_error = np.sqrt(mean_squared_error(y_test, knn_y_pred))\n",
    "knn_error"
   ]
  },
  {
   "cell_type": "code",
   "execution_count": 169,
   "metadata": {
    "colab": {
     "base_uri": "https://localhost:8080/",
     "height": 369
    },
    "id": "HziG0hQIic5N",
    "outputId": "a347c10c-fb01-4f22-9195-20423f9ed535"
   },
   "outputs": [
    {
     "data": {
      "image/png": "[encoded data removed]",
      "text/plain": [
       "<Figure size 360x360 with 1 Axes>"
      ]
     },
     "metadata": {
      "needs_background": "light"
     },
     "output_type": "display_data"
    }
   ],
   "source": [
    "plot_learning_curve(knn, X, y)"
   ]
  },
  {
   "cell_type": "markdown",
   "metadata": {
    "id": "oyTYu28A92qb"
   },
   "source": [
    "**After feature Selection**"
   ]
  },
  {
   "cell_type": "code",
   "execution_count": 171,
   "metadata": {
    "id": "Krz-S8Gt9x8y"
   },
   "outputs": [],
   "source": [
    "knn1 = KNeighborsRegressor()\n",
    "knn1.fit(X_train_1, y_train_1)\n",
    "knn1_y_pred1 = knn1.predict(X_test_1)"
   ]
  },
  {
   "cell_type": "code",
   "execution_count": 172,
   "metadata": {
    "colab": {
     "base_uri": "https://localhost:8080/"
    },
    "id": "MnHZ4-pc-Ksr",
    "outputId": "4bb69bee-dffc-46a1-e922-585f41511f1d"
   },
   "outputs": [
    {
     "name": "stdout",
     "output_type": "stream",
     "text": [
      "The R2 Score is :  0.5915054172312069\n",
      "The Mean Absolute Error is :  3.2482830039525687\n",
      "The Mean Squared Error is :  17.537397449011852\n",
      "The Root Mean Squared Error is :  4.187767597301915\n"
     ]
    }
   ],
   "source": [
    "print(f'The R2 Score is : ', r2_score(y_test_1, knn1_y_pred1))\n",
    "print(f'The Mean Absolute Error is : ', mean_absolute_error(y_test_1, knn1_y_pred1))\n",
    "print(f'The Mean Squared Error is : ', mean_squared_error(y_test_1, knn1_y_pred1))\n",
    "print(f'The Root Mean Squared Error is : ', np.sqrt(mean_squared_error(y_test_1, knn1_y_pred1)))"
   ]
  },
  {
   "cell_type": "code",
   "execution_count": 173,
   "metadata": {
    "colab": {
     "base_uri": "https://localhost:8080/",
     "height": 279
    },
    "id": "4hovTx-GJS8l",
    "outputId": "dc579423-2841-4274-91e4-8a91cf66193e"
   },
   "outputs": [
    {
     "data": {
      "image/png": "[encoded data removed]",
      "text/plain": [
       "<Figure size 432x288 with 1 Axes>"
      ]
     },
     "metadata": {
      "needs_background": "light"
     },
     "output_type": "display_data"
    }
   ],
   "source": [
    "k_range = range(1,10,2)\n",
    "scores = []\n",
    "for k in k_range:\n",
    "    knn = KNeighborsRegressor(n_neighbors=k, metric='euclidean')\n",
    "    knn.fit(X_train_1, y_train_1)\n",
    "    knn_y_pred1 = knn.predict(X_test_1)\n",
    "    scores.append(metrics.mean_squared_error(y_test_1, knn_y_pred1))\n",
    "#Testing the Accuracy for each K value from 1 to 9\n",
    "plt.plot(k_range, scores)\n",
    "plt.xlabel('Value of K for KNN')\n",
    "plt.ylabel('Mean Squared Error')\n",
    "plt.show()\n"
   ]
  },
  {
   "cell_type": "code",
   "execution_count": 188,
   "metadata": {
    "id": "EpopE6GrNDvb"
   },
   "outputs": [],
   "source": [
    "#trying the best value of K \n",
    "knn1 = KNeighborsRegressor(n_neighbors= 1)\n",
    "knn1.fit(X_train_1, y_train_1)\n",
    "knn_y_pred1 = knn1.predict(X_test_1)"
   ]
  },
  {
   "cell_type": "code",
   "execution_count": 189,
   "metadata": {
    "colab": {
     "base_uri": "https://localhost:8080/"
    },
    "id": "a5g7cKgvNDve",
    "outputId": "2111011d-79fd-4c25-d89c-2a2a2ee8d75e"
   },
   "outputs": [
    {
     "name": "stdout",
     "output_type": "stream",
     "text": [
      "The R2 Score is :  0.6662436622859189\n",
      "The Mean Absolute Error is :  2.7114703557312247\n",
      "The Mean Squared Error is :  14.328751940711461\n",
      "The Root Mean Squared Error is :  3.7853337951508927\n"
     ]
    }
   ],
   "source": [
    "print(f'The R2 Score is : ', r2_score(y_test_1, knn_y_pred1))\n",
    "print(f'The Mean Absolute Error is : ', mean_absolute_error(y_test_1, knn_y_pred1))\n",
    "print(f'The Mean Squared Error is : ', mean_squared_error(y_test_1, knn_y_pred1))\n",
    "print(f'The Root Mean Squared Error is : ', np.sqrt(mean_squared_error(y_test_1, knn_y_pred1)))"
   ]
  },
  {
   "cell_type": "code",
   "execution_count": 190,
   "metadata": {
    "colab": {
     "base_uri": "https://localhost:8080/"
    },
    "id": "-sPpeGW7nv6_",
    "outputId": "02c76a20-1262-4059-b456-d466f685e0fd"
   },
   "outputs": [
    {
     "data": {
      "text/plain": [
       "3.7853337951508927"
      ]
     },
     "execution_count": 190,
     "metadata": {},
     "output_type": "execute_result"
    }
   ],
   "source": [
    "knn1_error = np.sqrt(mean_squared_error(y_test_1, knn_y_pred1))\n",
    "knn1_error"
   ]
  },
  {
   "cell_type": "code",
   "execution_count": 191,
   "metadata": {
    "colab": {
     "base_uri": "https://localhost:8080/",
     "height": 369
    },
    "id": "00KGucBripW3",
    "outputId": "37805548-c859-4f4b-ffbc-be8c13ed9725"
   },
   "outputs": [
    {
     "data": {
      "image/png": "[encoded data removed]",
      "text/plain": [
       "<Figure size 360x360 with 1 Axes>"
      ]
     },
     "metadata": {
      "needs_background": "light"
     },
     "output_type": "display_data"
    }
   ],
   "source": [
    "plot_learning_curve(knn1, X1, y1)"
   ]
  },
  {
   "cell_type": "markdown",
   "metadata": {
    "id": "TSV3LnhMmphN"
   },
   "source": [
    "## Model Evaluation"
   ]
  },
  {
   "cell_type": "markdown",
   "metadata": {
    "id": "ZDbAXJ-xnG-R"
   },
   "source": [
    "**Before Feature Selection**"
   ]
  },
  {
   "cell_type": "code",
   "execution_count": 192,
   "metadata": {
    "colab": {
     "base_uri": "https://localhost:8080/",
     "height": 456
    },
    "id": "Jpqg7Eq7mspo",
    "outputId": "b31f8253-ce53-4035-85c9-5eeed3c2d9c8"
   },
   "outputs": [
    {
     "data": {
      "image/png": "[encoded data removed]",
      "text/plain": [
       "<Figure size 576x360 with 1 Axes>"
      ]
     },
     "metadata": {
      "needs_background": "light"
     },
     "output_type": "display_data"
    }
   ],
   "source": [
    "plotdata = pd.DataFrame({\n",
    "\n",
    "    \"Testing\":[tree_error,knn_error,reg_error]},\n",
    "    \n",
    "    index=[\"Decison Tree Regressor\", \"KNN\", \"Linear Regression\"])\n",
    "\n",
    "\n",
    "plotdata.plot(kind=\"bar\",figsize=(8, 5))\n",
    "\n",
    "plt.title(\"Models Error Before the Feature selection\")\n",
    "plt.xlabel(\"Regression Models\")\n",
    "plt.ylabel(\"Error\")\n",
    "plt.show()\n"
   ]
  },
  {
   "cell_type": "markdown",
   "metadata": {
    "id": "BeXcHC9ksbfX"
   },
   "source": [
    "**After Feature Selection**"
   ]
  },
  {
   "cell_type": "code",
   "execution_count": 187,
   "metadata": {
    "colab": {
     "base_uri": "https://localhost:8080/",
     "height": 456
    },
    "id": "CdYv_eD5nXhK",
    "outputId": "1e95ae96-62da-4f59-e2be-cc8348e2a9c4"
   },
   "outputs": [
    {
     "data": {
      "image/png": "[encoded data removed]",
      "text/plain": [
       "<Figure size 576x360 with 1 Axes>"
      ]
     },
     "metadata": {
      "needs_background": "light"
     },
     "output_type": "display_data"
    }
   ],
   "source": [
    "plotdata = pd.DataFrame({\n",
    "\n",
    "    \"Testing\":[tree1_error,knn1_error,reg1_error]},\n",
    "    \n",
    "    index=[\"Decison Tree Regressor\", \"KNN\", \"Linear Regression\"])\n",
    "\n",
    "\n",
    "plotdata.plot(kind=\"bar\",figsize=(8, 5))\n",
    "\n",
    "plt.title(\"Models Error After the Feature selection\")\n",
    "plt.xlabel(\"Regression Models\")\n",
    "plt.ylabel(\"Error\")\n",
    "plt.show()"
   ]
  }
 ],
 "metadata": {
  "colab": {
   "collapsed_sections": [],
   "provenance": []
  },
  "kernelspec": {
   "display_name": "Python 3 (ipykernel)",
   "language": "python",
   "name": "python3"
  },
  "language_info": {
   "codemirror_mode": {
    "name": "ipython",
    "version": 3
   },
   "file_extension": ".py",
   "mimetype": "text/x-python",
   "name": "python",
   "nbconvert_exporter": "python",
   "pygments_lexer": "ipython3",
   "version": "3.9.7"
  }
 },
 "nbformat": 4,
 "nbformat_minor": 1
}
